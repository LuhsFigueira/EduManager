{
 "cells": [
  {
   "cell_type": "code",
   "execution_count": 1,
   "id": "da4e639f",
   "metadata": {},
   "outputs": [
    {
     "name": "stdout",
     "output_type": "stream",
     "text": [
      "Banco de dados 'EduManager' e tabelas criadas com sucesso.\n"
     ]
    }
   ],
   "source": [
    "import sqlite3\n",
    "\n",
    "# Conecta ou cria o banco de dados EduManager\n",
    "conn = sqlite3.connect('EduManager.db')\n",
    "cursor = conn.cursor()\n",
    "\n",
    "# Habilita a verificação de chave estrangeira\n",
    "cursor.execute(\"PRAGMA foreign_keys = ON;\")\n",
    "\n",
    "# Criação da tabela alunos\n",
    "cursor.execute(\"\"\"\n",
    "CREATE TABLE IF NOT EXISTS alunos (\n",
    "    id INTEGER PRIMARY KEY AUTOINCREMENT,\n",
    "    nome TEXT NOT NULL,\n",
    "    email TEXT NOT NULL,\n",
    "    ativo BOOLEAN DEFAULT 1\n",
    ");\n",
    "\"\"\")\n",
    "\n",
    "# Criação da tabela cursos\n",
    "cursor.execute(\"\"\"\n",
    "CREATE TABLE IF NOT EXISTS cursos (\n",
    "    id INTEGER PRIMARY KEY AUTOINCREMENT,\n",
    "    nome TEXT NOT NULL,\n",
    "    carga_horaria INTEGER NOT NULL\n",
    ");\n",
    "\"\"\")\n",
    "\n",
    "# Criação da tabela matriculas\n",
    "cursor.execute(\"\"\"\n",
    "CREATE TABLE IF NOT EXISTS matriculas (\n",
    "    id INTEGER PRIMARY KEY AUTOINCREMENT,\n",
    "    id_aluno INTEGER NOT NULL,\n",
    "    id_curso INTEGER NOT NULL,\n",
    "    data_inicio DATE NOT NULL,\n",
    "    data_fim DATE NOT NULL,\n",
    "    renovacao_automatica BOOLEAN DEFAULT 0,\n",
    "    status TEXT CHECK (status IN ('ativa', 'encerrada', 'pendente')),\n",
    "    FOREIGN KEY (id_aluno) REFERENCES alunos(id),\n",
    "    FOREIGN KEY (id_curso) REFERENCES cursos(id)\n",
    ");\n",
    "\"\"\")\n",
    "\n",
    "# Criação da tabela pagamentos\n",
    "cursor.execute(\"\"\"\n",
    "CREATE TABLE IF NOT EXISTS pagamentos (\n",
    "    id INTEGER PRIMARY KEY AUTOINCREMENT,\n",
    "    id_matricula INTEGER NOT NULL,\n",
    "    valor NUMERIC(10,2) NOT NULL,\n",
    "    forma_pagamento TEXT CHECK (forma_pagamento IN ('boleto', 'cartao')),\n",
    "    status TEXT CHECK (status IN ('pago', 'pendente', 'recusado')),\n",
    "    data_pagamento DATE,\n",
    "    cartao_final CHAR(4),\n",
    "    FOREIGN KEY (id_matricula) REFERENCES matriculas(id)\n",
    ");\n",
    "\"\"\")\n",
    "\n",
    "# Confirma as operações\n",
    "conn.commit()\n",
    "conn.close()\n",
    "\n",
    "print(\"Banco de dados 'EduManager' e tabelas criadas com sucesso.\")\n"
   ]
  }
 ],
 "metadata": {
  "kernelspec": {
   "display_name": "Python 3",
   "language": "python",
   "name": "python3"
  },
  "language_info": {
   "codemirror_mode": {
    "name": "ipython",
    "version": 3
   },
   "file_extension": ".py",
   "mimetype": "text/x-python",
   "name": "python",
   "nbconvert_exporter": "python",
   "pygments_lexer": "ipython3",
   "version": "3.13.3"
  }
 },
 "nbformat": 4,
 "nbformat_minor": 5
}
